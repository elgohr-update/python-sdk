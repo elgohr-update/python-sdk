{
 "cells": [
  {
   "cell_type": "code",
   "execution_count": 1,
   "metadata": {},
   "outputs": [],
   "source": [
    "import couler.argo as argo\n",
    "from couler.core.templates.volume import Volume, VolumeMount\n",
    "from couler.core.templates.volume_claim import VolumeClaimTemplate\n",
    "from onepanel.couler import Submitter\n",
    "import numpy as np"
   ]
  },
  {
   "cell_type": "markdown",
   "metadata": {},
   "source": [
    "### Preprocessing"
   ]
  },
  {
   "cell_type": "code",
   "execution_count": 2,
   "metadata": {},
   "outputs": [],
   "source": [
    "# Data augmentation function including dependency imports\n",
    "# All functions used as source must not receive parameters, and not use global variables\n",
    "# Make sure to import all required libraries inside the function\n",
    "# Used paths must match with VolumeMounting paths\n",
    "def augment_data_source():\n",
    "    import tensorflow as tf\n",
    "    import albumentations as A\n",
    "    import numpy as np\n",
    "    from tqdm import tqdm\n",
    "    import os\n",
    "\n",
    "    # Load CIFAR10 dataset\n",
    "    cifar10 = tf.keras.datasets.cifar10\n",
    "    (x_train, y_train), (x_test, y_test) = cifar10.load_data()\n",
    "\n",
    "    # Define transformations for Data Augmentation\n",
    "    transform = A.Compose([\n",
    "        A.VerticalFlip(p=0.5),\n",
    "        A.HorizontalFlip(p=0.5),\n",
    "        A.RandomBrightnessContrast(p=0.5),\n",
    "    ])\n",
    "    \n",
    "    # Create output directories\n",
    "    if not os.path.isdir('/mnt/output/train'):\n",
    "        os.makedirs('/mnt/output/train')\n",
    "        \n",
    "    # Apply Data augmentation to images    \n",
    "    transformed_images = np.zeros_like(x_train)\n",
    "    \n",
    "    for idx, image in enumerate(tqdm(x_train)):\n",
    "        transformed = transform(image=image)\n",
    "        transformed_image = transformed[\"image\"]\n",
    "        transformed_images[idx] = transformed_image\n",
    "        \n",
    "    # Save train(augmented) and test data as serialized numpy objects\n",
    "    np.save('/mnt/output/train/x_train.npy', np.concatenate([x_train, transformed_images]))\n",
    "    np.save('/mnt/output/train/y_train.npy', np.concatenate([y_train, y_train]))\n",
    "    np.save('/mnt/output/train/x_test.npy', x_test)\n",
    "    np.save('/mnt/output/train/y_test.npy', y_test)\n",
    "        "
   ]
  },
  {
   "cell_type": "code",
   "execution_count": 3,
   "metadata": {},
   "outputs": [
    {
     "name": "stdout",
     "output_type": "stream",
     "text": [
      "Downloading data from https://www.cs.toronto.edu/~kriz/cifar-10-python.tar.gz\n",
      "170500096/170498071 [==============================] - 4s 0us/step\n"
     ]
    },
    {
     "name": "stderr",
     "output_type": "stream",
     "text": [
      "100%|██████████| 50000/50000 [00:04<00:00, 10947.02it/s]\n"
     ]
    }
   ],
   "source": [
    "# Test data augmentation function (source script)\n",
    "augment_data_source()"
   ]
  },
  {
   "cell_type": "code",
   "execution_count": 4,
   "metadata": {},
   "outputs": [
    {
     "name": "stdout",
     "output_type": "stream",
     "text": [
      "(100000, 32, 32, 3)\n"
     ]
    }
   ],
   "source": [
    "# Load augmented train images\n",
    "import matplotlib.pyplot as plt\n",
    "augmented_images = np.load('/mnt/output/train/x_train.npy')\n",
    "print(augmented_images.shape)"
   ]
  },
  {
   "cell_type": "code",
   "execution_count": 5,
   "metadata": {},
   "outputs": [
    {
     "data": {
      "text/plain": [
       "Text(0.5, 1.0, 'Augmented Image')"
      ]
     },
     "execution_count": 5,
     "metadata": {},
     "output_type": "execute_result"
    },
    {
     "data": {
      "image/png": "[encoded data removed]",
      "text/plain": [
       "<Figure size 720x720 with 2 Axes>"
      ]
     },
     "metadata": {
      "needs_background": "light"
     },
     "output_type": "display_data"
    }
   ],
   "source": [
    "# Select random image to check augmentations\n",
    "# Re-run this cell to pick a different sample\n",
    "original_image_idx = np.random.randint(0, augmented_images.shape[0]//2)\n",
    "augmented_image_idx = original_image_idx + augmented_images.shape[0]//2\n",
    "\n",
    "# Plot original and augmented images side by side\n",
    "fig, axes = plt.subplots(1,2, figsize=(10,10))\n",
    "axes[0].imshow(augmented_images[original_image_idx])\n",
    "axes[0].set_title('Original Image')\n",
    "axes[1].imshow(augmented_images[augmented_image_idx])\n",
    "axes[1].set_title('Augmented Image')"
   ]
  },
  {
   "cell_type": "markdown",
   "metadata": {},
   "source": [
    "## Training"
   ]
  },
  {
   "cell_type": "code",
   "execution_count": 6,
   "metadata": {},
   "outputs": [],
   "source": [
    "# Full training Workflow function, including dependency imports\n",
    "def tensorflow_source():\n",
    "    import os\n",
    "    import json\n",
    "    import numpy as np\n",
    "    import tensorflow as tf\n",
    "    from tqdm.keras import TqdmCallback\n",
    "\n",
    "    # Load dataset from numpy serialized objects\n",
    "    x_train = np.load('/mnt/output/train/x_train.npy')\n",
    "    y_train = np.load('/mnt/output/train/y_train.npy')\n",
    "    x_test = np.load('/mnt/output/train/x_test.npy')\n",
    "    y_test = np.load('/mnt/output/train/y_test.npy')\n",
    "    \n",
    "    # Normalize inputs\n",
    "    x_train, x_test = x_train / 255.0, x_test / 255.0\n",
    "\n",
    "    # Model definition\n",
    "    model = tf.keras.Sequential([\n",
    "        tf.keras.layers.Conv2D(filters=32, kernel_size=5, activation='relu'),\n",
    "        tf.keras.layers.MaxPool2D(pool_size=2),\n",
    "        tf.keras.layers.Conv2D(filters=64, kernel_size=5, activation='relu'),\n",
    "        tf.keras.layers.MaxPool2D(pool_size=2),\n",
    "        tf.keras.layers.Flatten(),\n",
    "        tf.keras.layers.Dense(units=124, activation='relu'),\n",
    "        tf.keras.layers.Dropout(rate=0.75),\n",
    "        tf.keras.layers.Dense(units=10, activation='softmax')\n",
    "    ])\n",
    "    \n",
    "    # Optimizer definition\n",
    "    model.compile(optimizer=tf.keras.optimizers.Adam(lr=0.001),\n",
    "                loss='sparse_categorical_crossentropy',\n",
    "                metrics=['accuracy'])\n",
    "\n",
    "    # Write TensorBoard logs to /mnt/output\n",
    "    log_dir = '/mnt/output/tensorboard/'\n",
    "    tqdm_callback = TqdmCallback()  # Tqdm progress bar works better with noTTY than defaul Keras progress bar\n",
    "    tensorboard_callback = tf.keras.callbacks.TensorBoard(log_dir=log_dir, histogram_freq=1)\n",
    "\n",
    "    # Model training\n",
    "    model.fit(x=x_train,\n",
    "            y=y_train,\n",
    "            epochs=1,\n",
    "            validation_data=(x_test, y_test),\n",
    "            callbacks=[tensorboard_callback, tqdm_callback],\n",
    "            verbose=0)\n",
    "\n",
    "    # Store metrics for this task\n",
    "    loss, accuracy = model.evaluate(x_test, y_test)\n",
    "    metrics = [\n",
    "        {'name': 'accuracy', 'value': accuracy},\n",
    "        {'name': 'loss', 'value': loss}\n",
    "    ]\n",
    "    with open('/tmp/sys-metrics.json', 'w') as f:\n",
    "        json.dump(metrics, f)\n",
    "        \n",
    "    # Create output directories\n",
    "    if not os.path.isdir('/mnt/output/model'):\n",
    "        os.makedirs('/mnt/output/model')\n",
    "\n",
    "    # Save model\n",
    "    model.save('/mnt/output/model/model.h5')"
   ]
  },
  {
   "cell_type": "code",
   "execution_count": null,
   "metadata": {},
   "outputs": [],
   "source": [
    "# Test training function(source script)\n",
    "tensorflow_source()"
   ]
  },
  {
   "cell_type": "code",
   "execution_count": 19,
   "metadata": {},
   "outputs": [
    {
     "name": "stderr",
     "output_type": "stream",
     "text": [
      "INFO:root:Onepanel configuration detected\n",
      "INFO:root:Initialized\n"
     ]
    }
   ],
   "source": [
    "submitter = Submitter(workflow_name='python-defined-dag')"
   ]
  },
  {
   "cell_type": "code",
   "execution_count": 20,
   "metadata": {},
   "outputs": [],
   "source": [
    "def augment_data():\n",
    "    output = argo.create_local_artifact(\n",
    "        path='/mnt/output/train',\n",
    "    )\n",
    "    volume_claim_name = 'augmentation-output'\n",
    "    pvc = VolumeClaimTemplate(volume_claim_name, size='20Gi') # Volume name must contain lowercase alphanumeric characters only\n",
    "    volume_mount = VolumeMount(volume_claim_name, '/mnt/output/train') # Volume mounting points must be always different, name must match the volume claim\n",
    "    argo.create_workflow_volume(pvc)    # VolumeClaims must be registered into the main workflow template\n",
    "    argo.run_script(   # Couler run functions returns outputs\n",
    "        image='onepanel/dl:0.17.0',\n",
    "        command=['python', '-u'],\n",
    "        source=augment_data_source,\n",
    "        step_name='augment-data',\n",
    "        node_selector={'node.kubernetes.io/instance-type': 'Standard_D4s_v3'},\n",
    "        volume_mounts=[volume_mount],\n",
    "        output=output\n",
    "    )\n",
    "\n",
    "\n",
    "def train_model():\n",
    "    output = argo.create_local_artifact(\n",
    "        path='/mnt/output/model',\n",
    "    )\n",
    "    volume_claim_name = 'training-output'\n",
    "    pvc = VolumeClaimTemplate(volume_claim_name, size='20Gi')\n",
    "    volume_mount = VolumeMount(volume_claim_name, '/mnt/output/model')\n",
    "    argo.create_workflow_volume(pvc)\n",
    "    argo.run_script(\n",
    "        image='onepanel/dl:0.17.0',\n",
    "        command=['python', '-u'],\n",
    "        source=tensorflow_source,\n",
    "        step_name='train-model',\n",
    "        node_selector={'node.kubernetes.io/instance-type': 'Standard_D4s_v3'},\n",
    "        volume_mounts=[volume_mount],\n",
    "        output=output\n",
    "    )\n",
    "\n",
    "    \n",
    "def dag():\n",
    "    argo.set_dependencies(lambda: augment_data(), dependencies=None)\n",
    "    argo.set_dependencies(lambda: train_model(), dependencies=['augment-data']) # Outputs from previous steps are used as parameter of the next step"
   ]
  },
  {
   "cell_type": "code",
   "execution_count": 21,
   "metadata": {},
   "outputs": [],
   "source": [
    "argo._cleanup() # Required to clear global variables to run dag multiple times\n",
    "dag() # Generate DAG"
   ]
  },
  {
   "cell_type": "code",
   "execution_count": 22,
   "metadata": {},
   "outputs": [
    {
     "name": "stderr",
     "output_type": "stream",
     "text": [
      "INFO:root:Workflow Template updated\n",
      "INFO:root:Workflow Executed\n"
     ]
    }
   ],
   "source": [
    "argo.run(submitter) # Execute Workflow"
   ]
  },
  {
   "cell_type": "code",
   "execution_count": null,
   "metadata": {},
   "outputs": [],
   "source": []
  }
 ],
 "metadata": {
  "kernelspec": {
   "display_name": "Python 3",
   "language": "python",
   "name": "python3"
  },
  "language_info": {
   "codemirror_mode": {
    "name": "ipython",
    "version": 3
   },
   "file_extension": ".py",
   "mimetype": "text/x-python",
   "name": "python",
   "nbconvert_exporter": "python",
   "pygments_lexer": "ipython3",
   "version": "3.6.11"
  }
 },
 "nbformat": 4,
 "nbformat_minor": 4
}
