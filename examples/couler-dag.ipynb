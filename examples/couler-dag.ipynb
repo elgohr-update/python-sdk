{
 "cells": [
  {
   "cell_type": "code",
   "execution_count": 6,
   "metadata": {},
   "outputs": [],
   "source": [
    "import couler.argo as couler\n",
    "from onepanel.couler import Submitter"
   ]
  },
  {
   "cell_type": "code",
   "execution_count": 9,
   "metadata": {},
   "outputs": [],
   "source": [
    "def job_a(message):\n",
    "    couler.run_container(\n",
    "        image=\"docker/whalesay:latest\",\n",
    "        command=[\"cowsay\"],\n",
    "        args=[message],\n",
    "        step_name=\"A\",\n",
    "    )\n",
    "\n",
    "\n",
    "def job_b(message):\n",
    "    couler.run_container(\n",
    "        image=\"docker/whalesay:latest\",\n",
    "        command=[\"cowsay\"],\n",
    "        args=[message],\n",
    "        step_name=\"B\",\n",
    "    )\n",
    "\n",
    "\n",
    "def job_c(message):\n",
    "    couler.run_container(\n",
    "        image=\"docker/whalesay:latest\",\n",
    "        command=[\"cowsay\"],\n",
    "        args=[message],\n",
    "        step_name=\"C\",\n",
    "    )\n",
    "\n",
    "\n",
    "def job_d(message):\n",
    "    couler.run_container(\n",
    "        image=\"docker/whalesay:latest\",\n",
    "        command=[\"cowsay\"],\n",
    "        args=[message],\n",
    "        step_name=\"D\",\n",
    "    )\n",
    "\n",
    "#   A\n",
    "#  / \\\n",
    "# B   C\n",
    "#  \\ /\n",
    "#   D\n",
    "\n",
    "\n",
    "def dag():\n",
    "    couler.dag(\n",
    "        [\n",
    "            [lambda: job_a(message=\"A\")],\n",
    "            [lambda: job_a(message=\"A\"), lambda: job_b(message=\"B\")],  # A -> B\n",
    "            [lambda: job_a(message=\"A\"), lambda: job_c(message=\"C\")],  # A -> C\n",
    "            [lambda: job_b(message=\"B\"), lambda: job_d(message=\"D\")],  # B -> D\n",
    "            [lambda: job_c(message=\"C\"), lambda: job_d(message=\"D\")],  # C -> D\n",
    "        ]\n",
    "    )"
   ]
  },
  {
   "cell_type": "markdown",
   "metadata": {},
   "source": [
    "## Instantiate submitter\n",
    "\n",
    "If you are submitting from outstide of Onepanel, you need to pass in `username`, `token` and `host` into `Submitter`\n",
    "\n",
    "```python\n",
    "username = 'admin'\n",
    "token = 'fba7ce2f2cb83546f0de74b6f8a134ec'\n",
    "host = 'https://app.example.com/api' # Onepanel API URL\n",
    "\n",
    "submitter = Submitter(workflow_name='couler', username=username, token=token, host)\n",
    "```"
   ]
  },
  {
   "cell_type": "code",
   "execution_count": 10,
   "metadata": {},
   "outputs": [
    {
     "name": "stderr",
     "output_type": "stream",
     "text": [
      "INFO:root:Onepanel configuration detected\n",
      "INFO:root:Initialized\n"
     ]
    }
   ],
   "source": [
    "submitter = Submitter(workflow_name='couler')"
   ]
  },
  {
   "cell_type": "code",
   "execution_count": 11,
   "metadata": {},
   "outputs": [
    {
     "name": "stderr",
     "output_type": "stream",
     "text": [
      "INFO:root:Workflow Template updated\n",
      "INFO:root:Workflow Executed\n"
     ]
    }
   ],
   "source": [
    "dag()\n",
    "couler.run(submitter)"
   ]
  }
 ],
 "metadata": {
  "kernelspec": {
   "display_name": "Python 3",
   "language": "python",
   "name": "python3"
  },
  "language_info": {
   "codemirror_mode": {
    "name": "ipython",
    "version": 3
   },
   "file_extension": ".py",
   "mimetype": "text/x-python",
   "name": "python",
   "nbconvert_exporter": "python",
   "pygments_lexer": "ipython3",
   "version": "3.6.11"
  }
 },
 "nbformat": 4,
 "nbformat_minor": 4
}