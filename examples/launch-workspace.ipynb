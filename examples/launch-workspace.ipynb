{
 "cells": [
  {
   "cell_type": "code",
   "execution_count": 3,
   "metadata": {},
   "outputs": [
    {
     "name": "stdout",
     "output_type": "stream",
     "text": [
      "Requirement already satisfied: onepanel-sdk in /opt/conda/lib/python3.6/site-packages (0.12.0)\n",
      "Requirement already satisfied: urllib3>=1.15 in /opt/conda/lib/python3.6/site-packages (from onepanel-sdk) (1.25.10)\n",
      "Requirement already satisfied: certifi in /opt/conda/lib/python3.6/site-packages (from onepanel-sdk) (2020.6.20)\n",
      "Requirement already satisfied: six>=1.10 in /opt/conda/lib/python3.6/site-packages (from onepanel-sdk) (1.15.0)\n",
      "Requirement already satisfied: python-dateutil in /opt/conda/lib/python3.6/site-packages (from onepanel-sdk) (2.8.1)\n"
     ]
    }
   ],
   "source": [
    "!pip install onepanel-sdk"
   ]
  },
  {
   "cell_type": "code",
   "execution_count": 1,
   "metadata": {},
   "outputs": [],
   "source": [
    "import os\n",
    "import sys\n",
    "from time import sleep\n",
    "\n",
    "import onepanel.core.api\n",
    "from onepanel.core.api.rest import ApiException\n",
    "from onepanel.core.api.models import Parameter"
   ]
  },
  {
   "cell_type": "code",
   "execution_count": 8,
   "metadata": {},
   "outputs": [
    {
     "name": "stdout",
     "output_type": "stream",
     "text": [
      "Waiting for workspace to launch...\n",
      "\n",
      "Workspace is running at http://jupyterlab-workspace--rush.rush-gcs.onepanel.site.\n",
      "\n"
     ]
    }
   ],
   "source": [
    "# If outside of Onepanel\n",
    "# token = '<auth-token>'\n",
    "# Set environment variables for:\n",
    "#    ONEPANEL_API_URL, example: https://app.domain.com/api\n",
    "#    ONEPANEL_RESOURCE_NAMESPACE, example: default\n",
    "\n",
    "# If inside of Onepanel, get mounted service account token to use as API Key\n",
    "with open('/var/run/secrets/kubernetes.io/serviceaccount/token') as f:\n",
    "    token = f.read()\n",
    "\n",
    "# Configure API key authorization: Bearer\n",
    "configuration = onepanel.core.api.Configuration(\n",
    "    host=os.getenv('ONEPANEL_API_URL'),\n",
    "    api_key={\n",
    "        'authorization': token\n",
    "    }\n",
    ")\n",
    "configuration.api_key_prefix['authorization'] = 'Bearer'\n",
    "\n",
    "# Enter a context with an instance of the API client\n",
    "with onepanel.core.api.ApiClient(configuration) as api_client:\n",
    "    # Create an instance of the API class\n",
    "    api_instance = onepanel.core.api.WorkspaceServiceApi(api_client)\n",
    "\n",
    "    namespace = os.getenv('ONEPANEL_RESOURCE_NAMESPACE')\n",
    "    params = []\n",
    "    params.append(Parameter(name='sys-name', value='JupyterLab Workspace'))\n",
    "    params.append(Parameter(name='sys-node-pool', value='Standard_NC6'))\n",
    "    body = onepanel.core.api.CreateWorkspaceBody(\n",
    "        parameters=params,\n",
    "        workspace_template_uid='jupyterlab',\n",
    "    )\n",
    "    try:\n",
    "        workspace = api_instance.create_workspace(namespace, body)\n",
    "        uid = workspace.uid\n",
    "        print('Waiting for workspace to launch...\\n')\n",
    "        while workspace.status.phase != 'Running':\n",
    "            workspace = api_instance.get_workspace(namespace, uid)\n",
    "            sleep(15)\n",
    "        print('Workspace is running at %s.\\n' % workspace.url)\n",
    "    except ApiException as e:\n",
    "        print(\"Exception when calling WorkspaceServiceApi->create_workspace: %s\\n\" % e)"
   ]
  },
  {
   "cell_type": "code",
   "execution_count": null,
   "metadata": {},
   "outputs": [],
   "source": []
  }
 ],
 "metadata": {
  "kernelspec": {
   "display_name": "Python 3",
   "language": "python",
   "name": "python3"
  },
  "language_info": {
   "codemirror_mode": {
    "name": "ipython",
    "version": 3
   },
   "file_extension": ".py",
   "mimetype": "text/x-python",
   "name": "python",
   "nbconvert_exporter": "python",
   "pygments_lexer": "ipython3",
   "version": "3.6.11"
  }
 },
 "nbformat": 4,
 "nbformat_minor": 4
}